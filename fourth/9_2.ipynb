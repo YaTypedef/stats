{
 "cells": [
  {
   "cell_type": "markdown",
   "metadata": {
    "collapsed": false
   },
   "source": [
    "##Задача 9.2"
   ]
  },
  {
   "cell_type": "code",
   "execution_count": 23,
   "metadata": {
    "collapsed": false
   },
   "outputs": [
    {
     "name": "stdout",
     "output_type": "stream",
     "text": [
      "optimal [[ 574.09678943]\n",
      " [   2.43493002]]\n",
      "suboptimal [[ 573.24234256]\n",
      " [   2.46341158]]\n"
     ]
    },
    {
     "data": {
      "image/png": "[encoded data removed]",
      "text/plain": [
       "<matplotlib.figure.Figure at 0x109aeaed0>"
      ]
     },
     "metadata": {},
     "output_type": "display_data"
    }
   ],
   "source": [
    "# encoding: utf-8\n",
    "%matplotlib inline\n",
    "\n",
    "from math import log, exp, sqrt\n",
    "import numpy as np\n",
    "from numpy.linalg import inv\n",
    "import pandas as pd\n",
    "from scipy.stats import norm\n",
    "from sklearn.cross_validation import train_test_split\n",
    "import matplotlib.pyplot as plt\n",
    "\n",
    "def load_data():\n",
    "    return [float(x) for x in open('data.txt')]\n",
    "\n",
    "def linear_regression(Q, F):\n",
    "    I = inv(np.dot(np.transpose(Q), Q))\n",
    "    return np.dot(np.dot(I, np.transpose(Q)), F)\n",
    "\n",
    "def calc_optimal(data):\n",
    "    N = len(data)\n",
    "    a = np.sum([1.0 / (i + 1) for i in range(N)])\n",
    "    b = np.sum([float(i) / (i + 1) for i in range(N)])\n",
    "    c = np.sum([float(i * i) / (i + 1) for i in range(N)])\n",
    "    f1 = np.sum([float(x) / (i + 1) for i, x in zip(range(N), data)])\n",
    "    f2 = np.sum([float(x) * i / (i + 1) for i, x in zip(range(N), data)])\n",
    "    return linear_regression([[a, b], [b, c]], [[f1], [f2]])\n",
    "\n",
    "def calc_suboptimal(data):\n",
    "    N = len(data)\n",
    "    a = N\n",
    "    b = np.sum([float(i) for i in range(N)])\n",
    "    c = np.sum([float(i * i) for i in range(N)])\n",
    "    f1 = np.sum([float(x) for i, x in zip(range(N), data)])\n",
    "    f2 = np.sum([float(x) * i for i, x in zip(range(N), data)])\n",
    "    return linear_regression([[a, b], [b, c]], [[f1], [f2]])\n",
    "\n",
    "\n",
    "data = load_data()\n",
    "optimal = calc_optimal(data)\n",
    "sub_opt = calc_suboptimal(data)\n",
    "print 'optimal', optimal\n",
    "print 'suboptimal', sub_opt\n",
    "\n",
    "#plt.plot(range(N), data, 'ro')\n",
    "#plt.plot(range(N), , color='b')\n",
    "#plt.plot(range(N), sub_opt[0] + np.array(range(N)) * sub_opt[1], color='g')\n",
    "\n",
    "optimal_diff = np.absolute(\n",
    "    optimal[0] + np.array(range(N)) * optimal[1] - data)\n",
    "sub_opt_diff = np.absolute(\n",
    "    sub_opt[0] + np.array(range(N)) * sub_opt[1] - data)\n",
    "\n",
    "plt.plot(range(N), optimal_diff, color='g')\n",
    "plt.plot(range(N), sub_opt_diff, color='b')\n",
    "plt.show()"
   ]
  },
  {
   "cell_type": "code",
   "execution_count": 21,
   "metadata": {
    "collapsed": false
   },
   "outputs": [
    {
     "name": "stdout",
     "output_type": "stream",
     "text": [
      "0.0442748949416 [ 0.00746766]\n"
     ]
    }
   ],
   "source": [
    "sigma_2 = np.sum(\n",
    "    [x / (i + 1) for i, x in zip(range(N), np.square(optimal_diff))]) / N\n",
    "sigma_t_2 = sigma_2 / (optimal[1] ** 2)\n",
    "\n",
    "print sigma_2, sigma_t_2"
   ]
  },
  {
   "cell_type": "code",
   "execution_count": 26,
   "metadata": {
    "collapsed": false
   },
   "outputs": [],
   "source": [
    "f = open('output.txt', 'w')\n",
    "f.write('%f %f %f %f\\n' % (optimal[0], optimal[1], sqrt(sigma_2), sigma_t_2))\n",
    "f.close()"
   ]
  },
  {
   "cell_type": "code",
   "execution_count": null,
   "metadata": {
    "collapsed": true
   },
   "outputs": [],
   "source": []
  }
 ],
 "metadata": {
  "kernelspec": {
   "display_name": "Python 2",
   "language": "python",
   "name": "python2"
  },
  "language_info": {
   "codemirror_mode": {
    "name": "ipython",
    "version": 2
   },
   "file_extension": ".py",
   "mimetype": "text/x-python",
   "name": "python",
   "nbconvert_exporter": "python",
   "pygments_lexer": "ipython2",
   "version": "2.7.10"
  }
 },
 "nbformat": 4,
 "nbformat_minor": 0
}
