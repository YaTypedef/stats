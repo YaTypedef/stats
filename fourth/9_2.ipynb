{
 "cells": [
  {
   "cell_type": "markdown",
   "metadata": {
    "collapsed": false
   },
   "source": [
    "##Задача 9.2"
   ]
  },
  {
   "cell_type": "markdown",
   "metadata": {},
   "source": [
    "Плотность вероятности:\n",
    "$$\n",
    "P = \\prod_{i=0}^{n} \\frac{1}{\\sqrt{2\\pi(i+1)\\sigma^2}} \\prod_{i=0}^{n} \\exp{-\\frac{(x_i - \\beta_1 - i\\beta_2)^2}{2(i+1)\\sigma^2}}\n",
    "$$\n",
    "\n",
    "Функция правдоподобия:\n",
    "$$\n",
    "L = -\\frac{1}{2}\\sum_{i=0}^{n}\\ln(2\\pi(i+1)\\sigma^2) - \\sum_{i=0}^n \\frac{(x_i - \\beta_1 - i\\beta_2)^2}{2(i+1)\\sigma^2} \\to max\n",
    "$$\n",
    "\n",
    "Найдем производные по $\\beta_1$ и $\\beta_2$ и приравняем их к нулю:\n",
    "$$\n",
    "\\begin{equation*}\n",
    " \\begin{cases}\n",
    "   \\sum_{i=0}^n \\frac{x_i - \\beta_1 - i\\beta_2}{i+1} = 0\n",
    "   \\\\\n",
    "   \\sum_{i=0}^n \\frac{i(x_i - \\beta_1 - i\\beta_2)}{i+1} = 0\n",
    " \\end{cases}\n",
    "\\end{equation*}\n",
    "$$\n",
    "\n",
    "Введем следующие обозначения:\n",
    "$$\n",
    "a = \\sum_{i=0}^n \\frac{1}{i+1}\n",
    "$$\n",
    "$$\n",
    "b = \\sum_{i=0}^n \\frac{i}{i+1}\n",
    "$$\n",
    "$$\n",
    "c = \\sum_{i=0}^n \\frac{i^2}{i+1}\n",
    "$$\n",
    "$$\n",
    "f_1 = \\sum_{i=0}^n \\frac{x_i}{i+1}\n",
    "$$\n",
    "$$\n",
    "f_2 = \\sum_{i=0}^n \\frac{ix_i}{i+1}\n",
    "$$\n",
    "\n",
    "Тогда систему можно переписать следующим образом:\n",
    "$$\n",
    "\\begin{pmatrix} a & b \\\\ b & c \\end{pmatrix}\n",
    "\\begin{pmatrix} \\beta_1 \\\\ \\beta_2 \\end{pmatrix} =\n",
    "\\begin{pmatrix} f_1 \\\\ f_2 \\end{pmatrix}\n",
    "$$\n",
    "\n",
    "Тогда\n",
    "$$\n",
    "\\begin{pmatrix} \\beta_1 \\\\ \\beta_2 \\end{pmatrix} = (Q^TQ)^{-1}Q^TF,\n",
    "$$\n",
    "где\n",
    "$$\n",
    "Q = \\begin{pmatrix} a & b \\\\ b & c \\end{pmatrix}\n",
    "$$\n",
    "$$\n",
    "F = \\begin{pmatrix} f_1 \\\\ f_2 \\end{pmatrix}\n",
    "$$\n",
    "\n",
    "Если продифференцировать функцию правдоподобия по $\\sigma^2$, то можно найти:\n",
    "$$\n",
    "\\sigma^2 = \\frac{1}{n + 1} \\sum_{i=0}^n \\frac{(x_i - \\beta_1 - i\\beta_2)^2}{i+1}\n",
    "$$"
   ]
  },
  {
   "cell_type": "code",
   "execution_count": 4,
   "metadata": {
    "collapsed": false
   },
   "outputs": [],
   "source": [
    "# encoding: utf-8\n",
    "%matplotlib inline\n",
    "\n",
    "import numpy as np\n",
    "from numpy.linalg import inv\n",
    "import matplotlib.pyplot as plt\n",
    "\n",
    "def load_data():\n",
    "    return [float(x) for x in open('data.txt')]\n",
    "\n",
    "def linear_regression(Q, F):\n",
    "    I = inv(np.dot(np.transpose(Q), Q))\n",
    "    return np.dot(np.dot(I, np.transpose(Q)), F)\n",
    "\n",
    "def calc_betas(data):\n",
    "    N = len(data)\n",
    "    a = np.sum([1.0 / (i + 1) for i in range(N)])\n",
    "    b = np.sum([float(i) / (i + 1) for i in range(N)])\n",
    "    c = np.sum([float(i * i) / (i + 1) for i in range(N)])\n",
    "    f1 = np.sum([float(x) / (i + 1) for i, x in zip(range(N), data)])\n",
    "    f2 = np.sum([float(x) * i / (i + 1) for i, x in zip(range(N), data)])\n",
    "    return linear_regression([[a, b], [b, c]], [[f1], [f2]])\n",
    "\n",
    "data = load_data()\n",
    "N = len(data)\n",
    "betas = calc_betas(data)\n",
    "beta_1 = betas[0][0]\n",
    "beta_2 = betas[1][0]"
   ]
  },
  {
   "cell_type": "markdown",
   "metadata": {},
   "source": [
    "Построим на графике пары точек $(i, x_i)$ и прямую $\\beta_1 + i\\beta_2$:"
   ]
  },
  {
   "cell_type": "code",
   "execution_count": 5,
   "metadata": {
    "collapsed": false
   },
   "outputs": [
    {
     "data": {
      "image/png": "[encoded data removed]",
      "text/plain": [
       "<matplotlib.figure.Figure at 0x10968bed0>"
      ]
     },
     "metadata": {},
     "output_type": "display_data"
    }
   ],
   "source": [
    "plt.plot(range(N), data, 'ro')\n",
    "plt.plot(range(N), beta_1 + np.array(range(N)) * beta_2)\n",
    "plt.show()"
   ]
  },
  {
   "cell_type": "markdown",
   "metadata": {},
   "source": [
    "Посчитаем оптимальные сигмы и запишем ответ в файл:"
   ]
  },
  {
   "cell_type": "code",
   "execution_count": 7,
   "metadata": {
    "collapsed": false
   },
   "outputs": [
    {
     "name": "stdout",
     "output_type": "stream",
     "text": [
      "0.0442748949416 0.00746766060279\n"
     ]
    }
   ],
   "source": [
    "diff = np.absolute(\n",
    "    beta_1 + np.array(range(N)) * beta_2 - data)\n",
    "sigma_2 = np.sum(\n",
    "    [x / (i + 1) for i, x in zip(range(N), np.square(diff))]) / N\n",
    "sigma_t_2 = sigma_2 / beta_2 ** 2\n",
    "\n",
    "print sigma_2, sigma_t_2\n",
    "f = open('output.txt', 'w')\n",
    "f.write('%f %f %f %f\\n' % (beta_1, beta_2, sigma_2, sigma_t_2))\n",
    "f.close()"
   ]
  },
  {
   "cell_type": "markdown",
   "metadata": {
    "collapsed": false
   },
   "source": [
    "Также интересно проанализировать как отличается оптимальная прямая в случае, когда ошибки не \"накапливаются\", то есть когда дисперсия ошибки не возрастает с номером замера."
   ]
  },
  {
   "cell_type": "code",
   "execution_count": 8,
   "metadata": {
    "collapsed": false
   },
   "outputs": [
    {
     "data": {
      "image/png": "[encoded data removed]",
      "text/plain": [
       "<matplotlib.figure.Figure at 0x109708d10>"
      ]
     },
     "metadata": {},
     "output_type": "display_data"
    }
   ],
   "source": [
    "def calc_suboptimal(data):\n",
    "    N = len(data)\n",
    "    a = N\n",
    "    b = np.sum([float(i) for i in range(N)])\n",
    "    c = np.sum([float(i * i) for i in range(N)])\n",
    "    f1 = np.sum([float(x) for i, x in zip(range(N), data)])\n",
    "    f2 = np.sum([float(x) * i for i, x in zip(range(N), data)])\n",
    "    return linear_regression([[a, b], [b, c]], [[f1], [f2]])\n",
    "\n",
    "sub_opt = calc_suboptimal(data)\n",
    "sub_opt_diff = np.absolute(\n",
    "    sub_opt[0] + np.array(range(N)) * sub_opt[1] - data)\n",
    "\n",
    "plt.plot(range(N), diff, color='g')\n",
    "plt.plot(range(N), sub_opt_diff, color='b')\n",
    "plt.show()"
   ]
  },
  {
   "cell_type": "markdown",
   "metadata": {},
   "source": [
    "На графике изображен модуль отклонения $x_i$ от оптимальной прямой -- зеленым цветом для условия задачи и синим цветом для случая постоянной дисперсии. Заметим, что в случае накапливающейся ошибки, модуль отклонения при малых значениях $i$ меньше (то есть зеленая кривая лежит ниже), а при больших $i$ наоборот. Это объясняется тем, что в случае накапливающейся ошибки модель меньше \"штрафует\" за ошибку при больших $i$, в то время как в случае постоянной дисперсии \"штраф\" за ошибку при всех $i$ одинаков."
   ]
  }
 ],
 "metadata": {
  "kernelspec": {
   "display_name": "Python 2",
   "language": "python",
   "name": "python2"
  },
  "language_info": {
   "codemirror_mode": {
    "name": "ipython",
    "version": 2
   },
   "file_extension": ".py",
   "mimetype": "text/x-python",
   "name": "python",
   "nbconvert_exporter": "python",
   "pygments_lexer": "ipython2",
   "version": "2.7.10"
  }
 },
 "nbformat": 4,
 "nbformat_minor": 0
}
