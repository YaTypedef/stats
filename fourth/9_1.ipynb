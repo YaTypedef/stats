{
 "cells": [
  {
   "cell_type": "markdown",
   "metadata": {
    "collapsed": false
   },
   "source": [
    "Задача 9.1"
   ]
  },
  {
   "cell_type": "code",
   "execution_count": 6,
   "metadata": {
    "collapsed": false
   },
   "outputs": [
    {
     "name": "stdout",
     "output_type": "stream",
     "text": [
      "Train: 2258.42\n",
      "Test:  7900.43\n"
     ]
    }
   ],
   "source": [
    "# encoding: utf-8\n",
    "%matplotlib inline\n",
    "\n",
    "from math import log, exp\n",
    "import numpy as np\n",
    "from numpy.linalg import inv\n",
    "import pandas as pd\n",
    "from scipy.stats import norm\n",
    "from sklearn.cross_validation import train_test_split\n",
    "import matplotlib.pyplot as plt\n",
    "\n",
    "FEATURES = ['X', 'Y', 'month', 'FFMC', 'DMC', 'DC', 'ISI',\n",
    "            'temp', 'RH', 'wind', 'rain', 'bias']\n",
    "TARGET = 'area'\n",
    "\n",
    "def load_data():\n",
    "    data = pd.read_csv('forestfires.csv')\n",
    "    data['month'] = data['month'].apply(\n",
    "        lambda m: m in ['jun', 'jul', 'aug'])\n",
    "    data['bias'] = 1\n",
    "    \n",
    "    features = data[FEATURES].astype('float32').values\n",
    "    target = data[TARGET].astype('float32').values\n",
    "    return features, target\n",
    "\n",
    "def split(features, target, random_state=42):\n",
    "    features_train, features_test, target_train, target_test = \\\n",
    "        train_test_split(features,\n",
    "                         target,\n",
    "                         test_size=0.3,\n",
    "                         random_state=random_state)\n",
    "    return features_train, features_test, target_train, target_test\n",
    "\n",
    "def build_model(features, target, transformer = lambda x: x):\n",
    "    A = features\n",
    "    AT = np.transpose(features)\n",
    "    i = inv(np.dot(AT, A))\n",
    "    return np.dot(np.dot(i, AT), map(transformer, target))\n",
    "\n",
    "def evaluate_model(features, target, weights, transformer = lambda y: y):\n",
    "    predictions = np.dot(features, weights)\n",
    "    predictions = map(transformer, predictions)\n",
    "    return np.mean(np.square(predictions - target))\n",
    "\n",
    "features, target = load_data()\n",
    "features_train, features_test, target_train, target_test = \\\n",
    "    split(features, target)\n",
    "weights = build_model(features_train, target_train)\n",
    "print \"Train:\", evaluate_model(features_train, target_train, weights)\n",
    "print \"Test: \", evaluate_model(features_test, target_test, weights)\n"
   ]
  },
  {
   "cell_type": "code",
   "execution_count": 7,
   "metadata": {
    "collapsed": false
   },
   "outputs": [
    {
     "data": {
      "image/png": "[encoded data removed]",
      "text/plain": [
       "<matplotlib.figure.Figure at 0x112924390>"
      ]
     },
     "metadata": {},
     "output_type": "display_data"
    },
    {
     "name": "stdout",
     "output_type": "stream",
     "text": [
      "Best c = 32100\n"
     ]
    }
   ],
   "source": [
    "class Transformer:\n",
    "    def __init__(self, c):\n",
    "        self.c = c\n",
    "    \n",
    "    def transform_to(self):\n",
    "        return lambda x: log(self.c + x)\n",
    "    \n",
    "    def transform_from(self):\n",
    "        return lambda y: exp(y) - self.c\n",
    "\n",
    "c_values = xrange(200, 70000, 100)\n",
    "test_p = []\n",
    "for c in c_values:\n",
    "    transformer = Transformer(c)\n",
    "    weights = build_model(features_train, target_train,\n",
    "                          transformer.transform_to())\n",
    "    test_p.append(evaluate_model(\n",
    "        features_test,\n",
    "        target_test,\n",
    "        weights,\n",
    "        transformer=transformer.transform_from()))\n",
    "    \n",
    "plt.plot(c_values, test_p, label=\"Test\")\n",
    "plt.legend()\n",
    "plt.show()\n",
    "\n",
    "values = np.array(zip(c_values, test_p))\n",
    "print \"Best c =\", int(values[np.argmin(values[:, 1]), 0])"
   ]
  },
  {
   "cell_type": "code",
   "execution_count": 14,
   "metadata": {
    "collapsed": false
   },
   "outputs": [
    {
     "name": "stdout",
     "output_type": "stream",
     "text": [
      "0 train MSE = 2215.6358036 test MSE = 8354.43611254\n",
      "1 train MSE = 4107.26438498 test MSE = 4024.20501217\n",
      "2 train MSE = 5189.7678221 test MSE = 1116.48047648\n",
      "3 train MSE = 3863.10968997 test MSE = 4356.19248188\n",
      "4 train MSE = 4074.13465127 test MSE = 3689.91846137\n",
      "5 train MSE = 2400.3232057 test MSE = 7676.85258563\n",
      "6 train MSE = 5378.98549671 test MSE = 890.55889314\n",
      "7 train MSE = 5023.02593734 test MSE = 1502.92426929\n",
      "8 train MSE = 4007.54555229 test MSE = 4098.01187319\n",
      "9 train MSE = 4937.96128677 test MSE = 2178.18596759\n"
     ]
    }
   ],
   "source": [
    "for random_state in range(10):\n",
    "    features_train, features_test, target_train, target_test = \\\n",
    "        split(features, target, random_state=random_state)\n",
    "    transformer = Transformer(32100)\n",
    "    weights = build_model(features_train, target_train,\n",
    "                          transformer.transform_to())\n",
    "    train_p = evaluate_model(\n",
    "            features_train,\n",
    "            target_train,\n",
    "            weights,\n",
    "            transformer=transformer.transform_from())\n",
    "    test_p = evaluate_model(\n",
    "            features_test,\n",
    "            target_test,\n",
    "            weights,\n",
    "            transformer=transformer.transform_from())\n",
    "    print random_state, \"train MSE =\", train_p, \"test MSE =\", test_p\n",
    "\n",
    "    \n"
   ]
  },
  {
   "cell_type": "markdown",
   "metadata": {
    "collapsed": true
   },
   "source": [
    "Заметим, что ошибка модели сильно зависит от разбиения. Причем, судя по таблице выше, это вряд ли является следствием переобучения. Вероятно, это обусловлено наличием небольшого числа сильно отличающихся объектов в данных, и то как они распределятся между train/test выборками, как раз и влияет на значение ошибки."
   ]
  }
 ],
 "metadata": {
  "kernelspec": {
   "display_name": "Python 2",
   "language": "python",
   "name": "python2"
  },
  "language_info": {
   "codemirror_mode": {
    "name": "ipython",
    "version": 2
   },
   "file_extension": ".py",
   "mimetype": "text/x-python",
   "name": "python",
   "nbconvert_exporter": "python",
   "pygments_lexer": "ipython2",
   "version": "2.7.10"
  }
 },
 "nbformat": 4,
 "nbformat_minor": 0
}
