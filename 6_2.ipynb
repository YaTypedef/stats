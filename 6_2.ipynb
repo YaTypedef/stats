{
 "cells": [
  {
   "cell_type": "markdown",
   "metadata": {
    "collapsed": false
   },
   "source": [
    "Задача 6.2\n"
   ]
  },
  {
   "cell_type": "code",
   "execution_count": 2,
   "metadata": {
    "collapsed": false
   },
   "outputs": [
    {
     "name": "stdout",
     "output_type": "stream",
     "text": [
      "а) Длина выборки 1461\n",
      "Наилучшая gamma 98.855309\n",
      "б) Длина выборки 3652\n",
      "Наилучшая gamma 98.855309\n"
     ]
    }
   ],
   "source": [
    "# encoding: utf-8\n",
    "\n",
    "import numpy as np\n",
    "import math\n",
    "\n",
    "DEBUG = False \n",
    "\n",
    "def read_points():\n",
    "    points = []\n",
    "    for line in open('Weibull.txt'):\n",
    "        points.append(float(line))\n",
    "    return points\n",
    "\n",
    "# F(x) = 1 - e ^ (-x ^ gamma)\n",
    "# p(x) = F'(x) = e ^ (-x ^ gamma) * gamma * x ^ (gamma - 1)\n",
    "# L = p(x_1) * ... * p(x_N) =\n",
    "#   = gamma ^ N * П x_i ^ (gamma - 1) * П e ^ (-x_i ^ gamma)\n",
    "# ln L = N * ln gamma + (gamma - 1) * sum(ln x_i) - sum(x_i ^ gamma)\n",
    "# Пусть gamma0 = log_10(gamma)\n",
    "def find_optimal_gamma(points, left, right, step):\n",
    "    max_sum = None\n",
    "    best_gamma0 = None\n",
    "    sum_logs = sum([math.log(x) for x in points])\n",
    "    print 'Длина выборки', len(points)\n",
    "\n",
    "    if DEBUG:\n",
    "        print '%12s %12s %12s' % ('s', 'gamma0', 'gamma')\n",
    "    for gamma0 in np.arange(left, right, step):\n",
    "        gamma = math.pow(10, gamma0)\n",
    "        s = len(points) * math.log(gamma) + \\\n",
    "            (gamma - 1) * sum_logs - \\\n",
    "            sum([math.pow(x, gamma) for x in points])\n",
    "        if DEBUG:\n",
    "            print '%12f %12f %12f' % (s, gamma0, gamma)\n",
    "        if max_sum == None or s > max_sum:\n",
    "            max_sum = s\n",
    "            best_gamma0 = gamma0\n",
    "    return math.pow(10, best_gamma0)\n",
    "\n",
    "print 'а)',\n",
    "print 'Наилучшая gamma %f' % \\\n",
    "          find_optimal_gamma(read_points()[:365*4+1], -2, 2, 0.001)\n",
    "print 'б)',\n",
    "print 'Наилучшая gamma %f' % \\\n",
    "          find_optimal_gamma(read_points(), -2, 2, 0.001)\n"
   ]
  },
  {
   "cell_type": "markdown",
   "metadata": {},
   "source": [
    "Выберем меньший шаг для того, чтобы разница на всей выборке и на половине стала заметна:"
   ]
  },
  {
   "cell_type": "code",
   "execution_count": 3,
   "metadata": {
    "collapsed": false
   },
   "outputs": [
    {
     "name": "stdout",
     "output_type": "stream",
     "text": [
      "а) Длина выборки 1461\n",
      "Наилучшая gamma 98.809795\n",
      "б) Длина выборки 3652\n",
      "Наилучшая gamma 98.764302\n"
     ]
    }
   ],
   "source": [
    "print 'а)',\n",
    "print 'Наилучшая gamma %f' % \\\n",
    "          find_optimal_gamma(read_points()[:365*4+1], -2, 2, 0.0001)\n",
    "print 'б)',\n",
    "print 'Наилучшая gamma %f' % \\\n",
    "          find_optimal_gamma(read_points(), -2, 2, 0.0001)\n"
   ]
  }
 ],
 "metadata": {
  "kernelspec": {
   "display_name": "Python 2",
   "language": "python",
   "name": "python2"
  },
  "language_info": {
   "codemirror_mode": {
    "name": "ipython",
    "version": 2
   },
   "file_extension": ".py",
   "mimetype": "text/x-python",
   "name": "python",
   "nbconvert_exporter": "python",
   "pygments_lexer": "ipython2",
   "version": "2.7.10"
  }
 },
 "nbformat": 4,
 "nbformat_minor": 0
}
