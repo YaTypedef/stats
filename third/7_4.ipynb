{
 "cells": [
  {
   "cell_type": "markdown",
   "metadata": {},
   "source": [
    "Задача 7.4\n"
   ]
  },
  {
   "cell_type": "markdown",
   "metadata": {},
   "source": [
    "$\\mathbb{E}(N_t|N_s) = \\mathbb{E}(N_t - N_s + N_s|N_s) = \\mathbb{E}(N_t - N_s|N_s) + \\mathbb{E}(N_s|N_s)$. Поскольку $N_t - N_s$ и $N_s$ независимы, то\n",
    "$\\mathbb{E}(N_t - N_s|N_s) = \\mathbb{E}(N_t - N_s) = \\lambda(t - s)$. Кроме того,\n",
    "$\\mathbb{E}(N_s|N_s) = N_s$.\n",
    "Итого получаем, что\n",
    "$\\mathbb{E}(N_t|N_s) = N_s + \\lambda(t - s)$.\n",
    "\n",
    "В качестве априорного распределения возьмем сопряженное к экспоненциальному -- то есть гамма распределение. При этом, если параметры априорного равны $(\\alpha, \\beta)$, то параметры апостериорного будут равны $(\\alpha + n, \\beta + \\sum{x_i})$. А байесовская оценка -- $\\frac{\\alpha + n}{\\beta + \\sum{x_i}}$.\n",
    "\n",
    "Поскольку мы не обладаем никакими дополнительными знаниями о $\\lambda$, то выбрать параметры априорного распределения довольно трудно. В данной задаче выберем такие параметры, чтобы матожидание априорного распределения было по порядку величины близко к истинному значению -- (2, 5)."
   ]
  },
  {
   "cell_type": "code",
   "execution_count": 23,
   "metadata": {
    "collapsed": false
   },
   "outputs": [
    {
     "name": "stdout",
     "output_type": "stream",
     "text": [
      "0\t24.0\n",
      "1\t23.6\n",
      "2\t23.2\n",
      "3\t22.8\n",
      "4\t22.4\n",
      "5\t22.0\n",
      "5.944\tbreak\n",
      "6\t22.6\n",
      "6.579\tbreak\n",
      "7\t30.2165039929\n",
      "7.256\tbreak\n",
      "8\t35.9531051965\n",
      "9\t35.319391635\n",
      "10\t34.6856780735\n",
      "10.317\tbreak\n",
      "11\t30.1389096341\n",
      "12\t29.6054624987\n",
      "13\t29.0720153633\n",
      "14\t28.5385682279\n",
      "15\t28.0051210925\n",
      "16\t27.4716739571\n",
      "16.07\tbreak\n",
      "17\t22.0567235224\n",
      "18\t21.6600555335\n",
      "18.481\tbreak\n",
      "19\t22.365398871\n",
      "20\t21.9662428009\n",
      "21\t21.5670867309\n",
      "22\t21.1679306609\n",
      "23\t20.7687745909\n",
      "23.748\tbreak\n",
      "24\t19.6293632696\n",
      "24.059\tbreak\n",
      "25\t21.6275146009\n",
      "26\t21.2381570409\n",
      "26.777\tbreak\n",
      "27\t21.7743583788\n",
      "28\t21.3872566098\n",
      "29\t21.0001548407\n",
      "29.129\tbreak\n",
      "30\t21.7083555082\n",
      "31\t21.3180769913\n",
      "32\t20.9277984744\n",
      "32.997\tbreak\n",
      "33\t21.1082581974\n",
      "34\t20.7338782641\n",
      "35\t20.3594983309\n",
      "36\t19.9851183977\n",
      "37\t19.6107384644\n",
      "37.457\tbreak\n",
      "37.668\tbreak\n",
      "38\t21.3868859601\n",
      "39\t21.005663871\n",
      "40\t20.6244417819\n",
      "41\t20.2432196928\n",
      "42\t19.8619976037\n",
      "42.756\tbreak\n",
      "43\t20.098727638\n",
      "44\t19.7399789534\n",
      "44.087\tbreak\n",
      "45\t20.5628954871\n",
      "46\t20.192035788\n",
      "47\t19.8211760888\n",
      "48\t19.4503163897\n",
      "49\t19.0794566905\n",
      "50\t18.7085969914\n",
      "51\t18.3377372923\n",
      "52\t17.9668775931\n",
      "53\t17.596017894\n",
      "54\t17.2251581948\n",
      "55\t16.8542984957\n",
      "56\t16.4834387966\n",
      "57\t16.1125790974\n",
      "58\t15.7417193983\n",
      "58.388\tbreak\n",
      "59\t16.2959403941\n",
      "60\t16.0\n"
     ]
    }
   ],
   "source": [
    "from __future__ import print_function\n",
    "import numpy as np\n",
    "\n",
    "def bayes_estimator(alpha, beta, sample):\n",
    "    alpha1 = float(alpha) + len(sample)\n",
    "    beta1 = float(beta) + np.sum(sample)\n",
    "    return alpha1 / beta1\n",
    "\n",
    "def read_data():\n",
    "    input = open('input.txt')\n",
    "    next(input)  # skipping lambda; assuming it's not known\n",
    "    return [float(m) for m in input]\n",
    "\n",
    "def calc_predictions(moments):\n",
    "    result = []\n",
    "    for s in range(0, 61):\n",
    "        happened = [m for m in moments if m <= s]\n",
    "        deltas = [happened[i] - happened[i - 1] for i in range(1, len(happened))]\n",
    "        lambda_ = bayes_estimator(2, 5, deltas)\n",
    "        N_s = len(happened)\n",
    "        E_N_t_N_s = N_s + lambda_ * (60 - s)\n",
    "        result.append((s, E_N_t_N_s))\n",
    "    return result\n",
    "\n",
    "moments = read_data()\n",
    "result = calc_predictions(moments) + [(m, 'break') for m in moments]\n",
    "for x, y in sorted(result):\n",
    "    print(x, y, sep='\\t')\n"
   ]
  }
 ],
 "metadata": {
  "kernelspec": {
   "display_name": "Python 2",
   "language": "python",
   "name": "python2"
  },
  "language_info": {
   "codemirror_mode": {
    "name": "ipython",
    "version": 2
   },
   "file_extension": ".py",
   "mimetype": "text/x-python",
   "name": "python",
   "nbconvert_exporter": "python",
   "pygments_lexer": "ipython2",
   "version": "2.7.10"
  }
 },
 "nbformat": 4,
 "nbformat_minor": 0
}
