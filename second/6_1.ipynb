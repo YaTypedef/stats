{
 "cells": [
  {
   "cell_type": "markdown",
   "metadata": {},
   "source": [
    "Задача 6.1\n"
   ]
  },
  {
   "cell_type": "markdown",
   "metadata": {},
   "source": [
    "$\\mathbb{E}(N_t|N_s) = \\mathbb{E}(N_t - N_s + N_s|N_s) = \\mathbb{E}(N_t - N_s|N_s) + \\mathbb{E}(N_s|N_s)$. Поскольку $N_t - N_s$ и $N_s$ независимы, то\n",
    "$\\mathbb{E}(N_t - N_s|N_s) = \\mathbb{E}(N_t - N_s) = \\lambda(t - s)$. Кроме того,\n",
    "$\\mathbb{E}(N_s|N_s) = N_s$.\n",
    "Итого получаем, что\n",
    "$\\mathbb{E}(N_t|N_s) = N_s + \\lambda(t - s)$."
   ]
  },
  {
   "cell_type": "code",
   "execution_count": 1,
   "metadata": {
    "collapsed": false
   },
   "outputs": [
    {
     "name": "stdout",
     "output_type": "stream",
     "text": [
      "0\t14.58\n",
      "1\t14.337\n",
      "2\t14.094\n",
      "3\t13.851\n",
      "4\t13.608\n",
      "5\t13.365\n",
      "6\t14.122\n",
      "7\t14.879\n",
      "8\t15.636\n",
      "9\t15.393\n",
      "10\t15.15\n",
      "11\t15.907\n",
      "12\t15.664\n",
      "13\t15.421\n",
      "14\t15.178\n",
      "15\t14.935\n",
      "16\t14.692\n",
      "17\t15.449\n",
      "18\t15.206\n",
      "19\t15.963\n",
      "20\t15.72\n",
      "21\t15.477\n",
      "22\t15.234\n",
      "23\t14.991\n",
      "24\t15.748\n",
      "25\t16.505\n",
      "26\t16.262\n",
      "27\t17.019\n",
      "28\t16.776\n",
      "29\t16.533\n",
      "30\t17.29\n",
      "31\t17.047\n",
      "32\t16.804\n",
      "33\t17.561\n",
      "34\t17.318\n",
      "35\t17.075\n",
      "36\t16.832\n",
      "37\t16.589\n",
      "38\t18.346\n",
      "39\t18.103\n",
      "40\t17.86\n",
      "41\t17.617\n",
      "42\t17.374\n",
      "43\t18.131\n",
      "44\t17.888\n",
      "45\t18.645\n",
      "46\t18.402\n",
      "47\t18.159\n",
      "48\t17.916\n",
      "49\t17.673\n",
      "50\t17.43\n",
      "51\t17.187\n",
      "52\t16.944\n",
      "53\t16.701\n",
      "54\t16.458\n",
      "55\t16.215\n",
      "56\t15.972\n",
      "57\t15.729\n",
      "58\t15.486\n",
      "59\t16.243\n",
      "60\t16.0\n"
     ]
    }
   ],
   "source": [
    "from __future__ import print_function\n",
    "\n",
    "input = open('input.txt')\n",
    "lambda_ = float(input.readline())\n",
    "moments = [float(m) for m in input]\n",
    "\n",
    "for s in range(0, 61):\n",
    "    N_s = sum(m <= s for m in moments)\n",
    "    E_N_t_N_s = N_s + lambda_ * (60 - s)\n",
    "    print(s, E_N_t_N_s, sep='\\t')"
   ]
  }
 ],
 "metadata": {
  "kernelspec": {
   "display_name": "Python 2",
   "language": "python",
   "name": "python2"
  },
  "language_info": {
   "codemirror_mode": {
    "name": "ipython",
    "version": 2
   },
   "file_extension": ".py",
   "mimetype": "text/x-python",
   "name": "python",
   "nbconvert_exporter": "python",
   "pygments_lexer": "ipython2",
   "version": "2.7.10"
  }
 },
 "nbformat": 4,
 "nbformat_minor": 0
}
