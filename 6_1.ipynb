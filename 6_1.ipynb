{
 "cells": [
  {
   "cell_type": "markdown",
   "metadata": {
    "collapsed": false
   },
   "source": [
    "Задача 6.1\n"
   ]
  },
  {
   "cell_type": "code",
   "execution_count": 1,
   "metadata": {
    "collapsed": false
   },
   "outputs": [
    {
     "name": "stdout",
     "output_type": "stream",
     "text": [
      "а) Выборка из 500 элементов\n",
      "-215.0 +/- 1.0\n",
      "-215.1 +/- 0.1\n",
      "-215.1 +/- 0.01\n",
      "-215.098 +/- 0.001\n",
      "-215.0978 +/- 0.0001\n",
      "-215.09776 +/- 1e-05\n",
      "-215.097755 +/- 1e-06\n",
      "-215.0977554 +/- 1e-07\n",
      "-215.09775539 +/- 1e-08\n",
      "-215.097755429 +/- 1e-09\n",
      "б) Выборка из 1000 элементов\n",
      "-215.0 +/- 1.0\n",
      "-215.1 +/- 0.1\n",
      "-215.11 +/- 0.01\n",
      "-215.11 +/- 0.001\n",
      "-215.1097 +/- 0.0001\n",
      "-215.10975 +/- 1e-05\n",
      "-215.109749 +/- 1e-06\n",
      "-215.109749 +/- 1e-07\n",
      "-215.10974895 +/- 1e-08\n",
      "-215.109748946 +/- 1e-09\n"
     ]
    }
   ],
   "source": [
    "# -*- coding: utf-8 -*-\n",
    "\n",
    "import numpy as np\n",
    "import math\n",
    "\n",
    "def read_points():\n",
    "    points = []\n",
    "    # Читаем выборку из файла\n",
    "    for line in open('Cauchy.txt'): \n",
    "        points.append(float(line))\n",
    "    return points\n",
    "\n",
    "def find_optimal_x0(points, left, right, step):\n",
    "    min_sum = None\n",
    "    best_x0 = None\n",
    "    # Проходим по отрезку с заданным шагом\n",
    "    for x0 in np.arange(left, right, step): \n",
    "        # Нахождение максимума произведения дробей сводим к\n",
    "        # нахождению минимума суммы логарифмов знаменателей\n",
    "        s = sum([math.log(1 + (x - x0) * (x - x0)) for x in points])\n",
    "        if min_sum == None or s < min_sum:\n",
    "            min_sum = s\n",
    "            best_x0 = x0 # Запоминаем лучший x0 на каждом шаге\n",
    "    return best_x0\n",
    "\n",
    "subtasks = ['а)', 'б)'] # Вспомогательный список для печати\n",
    "all_points = read_points()\n",
    "\n",
    "# Проходим по половине выборки, а потом по всей\n",
    "for points in [all_points[:len(all_points) / 2], all_points]:\n",
    "    print subtasks.pop(0), 'Выборка из', len(points), 'элементов'\n",
    "    left = -1000 # Левый конец отрезка\n",
    "    right = 1000 # Правый конец отрезка\n",
    "    step = 1.0   # Шаг сначала большой, потом будем уменьшать\n",
    "\n",
    "    for i in range(10):\n",
    "        x0 = find_optimal_x0(points, left, right, step)\n",
    "        print x0, \"+/-\", step # Печать результата для данного шага\n",
    "        radius = (right - left) / 20\n",
    "        left = x0 - radius  # Меняем левый \n",
    "        right = x0 + radius # и правый концы отрезка относительно x0\n",
    "        step /= 10          # Уменьшаем шаг\n"
   ]
  }
 ],
 "metadata": {
  "kernelspec": {
   "display_name": "Python 2",
   "language": "python",
   "name": "python2"
  },
  "language_info": {
   "codemirror_mode": {
    "name": "ipython",
    "version": 2
   },
   "file_extension": ".py",
   "mimetype": "text/x-python",
   "name": "python",
   "nbconvert_exporter": "python",
   "pygments_lexer": "ipython2",
   "version": "2.7.10"
  }
 },
 "nbformat": 4,
 "nbformat_minor": 0
}
